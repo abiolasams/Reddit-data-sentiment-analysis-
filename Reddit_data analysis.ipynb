{
 "cells": [
  {
   "cell_type": "code",
   "execution_count": 27,
   "metadata": {},
   "outputs": [
    {
     "name": "stderr",
     "output_type": "stream",
     "text": [
      "[nltk_data] Downloading package punkt to /home/jupyterlab/nltk_data...\n",
      "[nltk_data]   Package punkt is already up-to-date!\n",
      "[nltk_data] Downloading package vader_lexicon to\n",
      "[nltk_data]     /home/jupyterlab/nltk_data...\n",
      "[nltk_data]   Package vader_lexicon is already up-to-date!\n"
     ]
    },
    {
     "data": {
      "text/plain": [
       "True"
      ]
     },
     "execution_count": 27,
     "metadata": {},
     "output_type": "execute_result"
    }
   ],
   "source": [
    "import praw\n",
    "import pandas as pd\n",
    "import numpy as np\n",
    "import matplotlib.pyplot as plt\n",
    "import nltk\n",
    "from IPython import display\n",
    "import math\n",
    "from pprint import pprint\n",
    "from nltk.tokenize import word_tokenize, RegexpTokenizer\n",
    "nltk.download('punkt')\n",
    "nltk.download('vader_lexicon')\n",
    "nltk.download('stopwords')"
   ]
  },
  {
   "cell_type": "markdown",
   "metadata": {},
   "source": [
    "#### utilizing praw reddit webscraper api"
   ]
  },
  {
   "cell_type": "code",
   "execution_count": 4,
   "metadata": {},
   "outputs": [],
   "source": [
    "reddit = praw.Reddit(client_id='EL9uWf3ErWRD-A', client_secret='A_nwiG5rRFFww7NIOMbnug9ViLsntg', user_agent='brainstation123')"
   ]
  },
  {
   "cell_type": "markdown",
   "metadata": {},
   "source": [
    "### reddit webscraping"
   ]
  },
  {
   "cell_type": "markdown",
   "metadata": {},
   "source": [
    "#### first set of data webscraped from reddit "
   ]
  },
  {
   "cell_type": "code",
   "execution_count": 5,
   "metadata": {},
   "outputs": [],
   "source": [
    "#complaints from this weblink\n",
    "submission = reddit.submission(url='https://www.reddit.com/r/Design/comments/4e93zy/what_is_the_best_stock_photo_website_for_the_best/')"
   ]
  },
  {
   "cell_type": "code",
   "execution_count": 6,
   "metadata": {},
   "outputs": [],
   "source": [
    "#webscraping the complaints \n",
    "a=[]\n",
    "submission.comments.replace_more(limit=1000)\n",
    "for comment in submission.comments.list():\n",
    "    a.append(comment.body)"
   ]
  },
  {
   "cell_type": "markdown",
   "metadata": {},
   "source": [
    "#### second set of data webscraped from reddit "
   ]
  },
  {
   "cell_type": "code",
   "execution_count": 9,
   "metadata": {},
   "outputs": [],
   "source": [
    "#all posts from subbreddit r/shutterstock\n",
    "subreddit = reddit.subreddit('shutterstock') # Change the subreddit's name here \n",
    "sub_ids = []\n",
    "for submission in subreddit.hot(limit = 1000): # Define the limit here and filter method\n",
    "    sub_ids.append(submission.id)\n",
    "    \n",
    "top_level_comments = []\n",
    "second_level_comments = []\n",
    "title = []\n",
    "selftext = []\n",
    "for sub_id in sub_ids:\n",
    "    submission = reddit.submission(id = sub_id)\n",
    "    title.append(submission.title) # Get submission title\n",
    "    selftext.append(submission.selftext) # Get submission content\n",
    "    submission.comments.replace_more(limit = None)\n",
    "    for top_level_comment in submission.comments:\n",
    "        top_level_comments.append(top_level_comment.body) # Get top-level comments\n",
    "        for second_level_comment in top_level_comment.replies:\n",
    "            second_level_comments.append(second_level_comment.body) # Get second-level comments"
   ]
  },
  {
   "cell_type": "code",
   "execution_count": 11,
   "metadata": {},
   "outputs": [
    {
     "data": {
      "text/plain": [
       "['Oh Shutterstock. How I hate you.',\n",
       " 'You have to start somewhere, right?',\n",
       " 'Why is impossible to post question here on this subreddit?',\n",
       " '\\\\[I honestly have no idea bro. like can u even make money outa shutterstock?',\n",
       " 'thank you foe sharing.',\n",
       " \"I actually had my first photo that I ever submitted (a selfie) rejected because the model release wasn't correct? Thought I filled it out properly. Was given no explanation of how to resubmit.\",\n",
       " 'Hitler part 2 .',\n",
       " 'r/StockImageCaption',\n",
       " 'Cool.! :)',\n",
       " \"I'm a Shutterstock contributor. I wonder if there is a similar petition for us to sign.\",\n",
       " \"Hey, good luck on your start :) \\nNo, you don't need to add any watermark, shutterstock does that automatically once they accept your photo and publish it.\",\n",
       " 'You have to upload your photo as editorial.',\n",
       " 'I don’t think you can 😞',\n",
       " 'It might be due to the jpg preview file. Is this the right size?',\n",
       " 'ngl, your photos kinda suck alba',\n",
       " 'Take high resolution pictures.\\nMake sure you have even lighting!\\nDo not include any glare or speckles (since these can be added in later)\\nPlace the item in a blank white background\\n(The fur is a hell to remove)\\nTake basic angles (front view, top, side, 45*, etc)\\nMake sure to have pictures of the WHOLE item.\\n',\n",
       " 'Such shit,',\n",
       " 'Shutterstock is shit.',\n",
       " 'You gotta take it to the authorities.\\nI’ve used shutterstock for years in my old marketing job, but the quality of their work is really based on quantity. ',\n",
       " '[Walt Disney Concert Hall](https://twitter.com/elessardunedain/status/1046687658116870144)',\n",
       " 'No selfpromotion please. ',\n",
       " 'What kind of material are you looking for?',\n",
       " 'ShutterStock is one of the best source of photos and graphic vectors',\n",
       " \"Shutterstock downloader is your tool to download any image you want from shutterstock.com 100% Free. \\nNo registration needed, and no fees. it's totally free.\",\n",
       " 'Scam! It asks for verification, you have to do surveys',\n",
       " 'Write the names of those who are members',\n",
       " 'Write the names of those who are members',\n",
       " '[Christmas paper design](https://www.shutterstock.com/image-vector/christmas-paper-design-illustration-seamless-tree-747836350)',\n",
       " \"Incredibly common subject. You'll do better looking for more unique topics. \",\n",
       " 'Knowing what is shutter speed, could be one of the most primary steps to learn photography. Shutter speed is a part of the exposure triangle that also includes ISO and Aperture (but more on that later). The final appearance of your photos depends greatly on how you set the shutter speed on your camera, besides other factors.It is actually a very simple concept that once understood, will make the difference between ‘just another photo’ and ‘the shot.’',\n",
       " 'Lol']"
      ]
     },
     "execution_count": 11,
     "metadata": {},
     "output_type": "execute_result"
    }
   ],
   "source": [
    "top_level_comments"
   ]
  },
  {
   "cell_type": "markdown",
   "metadata": {},
   "source": [
    "#### third set of webscraped data from reddit "
   ]
  },
  {
   "cell_type": "code",
   "execution_count": 13,
   "metadata": {},
   "outputs": [],
   "source": [
    "#obtaining another set of comments on reddit\n",
    "posts = []\n",
    "ml_subreddit = reddit.subreddit('Shutterstock')\n",
    "for post in ml_subreddit.hot():\n",
    "    posts.append([post.title, post.score, post.id, post.subreddit, post.url, post.num_comments, post.selftext, post.created])\n",
    "posts = pd.DataFrame(posts,columns=['title', 'score', 'id', 'subreddit', 'url', 'num_comments', 'body', 'created'])\n",
    "\n",
    "#extracting body to a list \n",
    "postToList = list(posts['body'])"
   ]
  },
  {
   "cell_type": "code",
   "execution_count": 18,
   "metadata": {},
   "outputs": [
    {
     "data": {
      "text/plain": [
       "['Let\\'s look back at some memorable moments and interesting insights from last year.\\n\\n**Your top 10 posts:**\\n\\n* \"[My Best and Worst Selling Photos and Images on Shutterstock](https://www.youtube.com/watch?v=MLThFSU5OQ4)\" by [u/NikoNomad](https://www.reddit.com/user/NikoNomad)\\n* \"[Hmm](https://i.redd.it/1mt7osbefu441.jpg)\" by [u/TheSexyCheeseGrader](https://www.reddit.com/user/TheSexyCheeseGrader)\\n* \"[Watermark on images](/r/shutterstock/comments/dpzd6r/watermark_on_images/)\" by [u/hawk16v](https://www.reddit.com/user/hawk16v)\\n* \"[Hey guys I’m just starting off and would love if you can check my images and maybe I can make a couple of bucks just in time for the holdays, thank you so much if you even just glance I know it’s not a lot.](https://www.shutterstock.com/g/Davis+Olive?rid=250198396&utm_medium=email&utm_source=ctrbreferral-link)\" by [u/Virdian\\\\_](https://www.reddit.com/user/Virdian_)\\n* \"[Shutterstock Is Latest Tech Company to Censor Itself for China](https://theintercept.com/2019/11/06/shutterstock-china-censorship-tech/)\" by [u/koavf](https://www.reddit.com/user/koavf)\\n* \"[Problems with the model release](/r/shutterstock/comments/ecuwka/problems_with_the_model_release/)\" by [u/andybjpg](https://www.reddit.com/user/andybjpg)\\n* \"[illustrations in jpeg and not png?](/r/shutterstock/comments/e9m57j/illustrations_in_jpeg_and_not_png/)\" by [u/johnpardon](https://www.reddit.com/user/johnpardon)\\n* \"[can\\'t upload png illustrations but the site claims they do sell them?](/r/shutterstock/comments/e6zkdi/cant_upload_png_illustrations_but_the_site_claims/)\" by [u/johnpardon](https://www.reddit.com/user/johnpardon)\\n* \"[BORDER DESIGN](http://www.shutterstock.com/en/image/image-1336157342)\" by [u/jdk5051](https://www.reddit.com/user/jdk5051)\\n* \"[Refferal Link](/r/shutterstock/comments/dunryx/refferal_link/)\" by [u/HillarysFloppyChode](https://www.reddit.com/user/HillarysFloppyChode)',\n",
       " '',\n",
       " \"Hi, I'm new to shutterstock and sotck photography in general. I did some pics of my hand holding my car keys and I sign the contract as the model and the photographer. I send the pics but it says the contract is wrong but it doesn't give me an explanation. So, I want to know if this is because maybe my handwriting was difficult to read for the AI or what I'm doing wrong.\\n\\nThanks.\",\n",
       " '',\n",
       " \"do people want cutout jpeg stock illustrations? i mean the background becomes white right if it's in jpeg?\\n\\nit takes some time to transform my illustrations to vector. haven't figured out how to do it yet.\\n\\nbut i somehow sold one image already. is it worth it to create jpeg illustrations with white backgrounds? or is there a way to upload png images?\",\n",
       " \"do they convert vector images to png?\\n\\ni export most of my illustrations into png. clip files are useless. can put them in illustrator and convert them to vector but that's too much work imo. \\n\\nthe primary reason i wanted to do stock is because the market is filled with cold dead illustrator images. \\n\\ni've been uploading to jpeg but i am not familiar with the format but it seems like you can't upload transparent backgrounds?\",\n",
       " '',\n",
       " '',\n",
       " '[https://www.shutterstock.com/g/Joseph98?rid=250247548&utm\\\\_medium=email&utm\\\\_source=ctrbreferral-link](https://www.shutterstock.com/g/Joseph98?rid=250247548&utm_medium=email&utm_source=ctrbreferral-link)',\n",
       " '',\n",
       " 'I recently started contributing in Shutterstock. Do we need to really add watermark to our photos and upload? Or Shutterstock themselves will take care of the copyrights? Can anyone suggest me a way to proceed with Shutterstock please. What else should I take care when I am a contributor and trying to find a niche out of it.....',\n",
       " 'every time I have a picture with a brand logo or name I get the image rejected because of it but when I search the thing in my picture on Shutterstock the logo and brand name are right in the picture, why can some people post such pictures but I cant?',\n",
       " '',\n",
       " '',\n",
       " '[http://www.shutterstock.com/g/ThatGermanGuy?rid=247082386](http://www.shutterstock.com/g/ThatGermanGuy?rid=247082386)',\n",
       " '',\n",
       " '',\n",
       " '',\n",
       " '',\n",
       " \"I'm either too stupid or too blind. How can I change the prices of my uploaded footage at Shutterstock Contributor?\\n\\n&#x200B;\\n\\nThanks and sorry.\",\n",
       " '',\n",
       " 'I\\'m not sure if this belongs here, but all that google shows me is how to download stock photos for free. \\n\\nI am trying to download thousands of photos from my download history. These are photos I have licensed already. I want to download them (ideally with keywords in the metadata) to keep in a local library of images. \\n\\nIs there a service or program that does this? I found \"Shutter Library\" but I\\'m not sure if it\\'s trustworthy (this is a company account and I do not want to compromise the password).\\n\\nThanks!',\n",
       " '',\n",
       " '',\n",
       " '',\n",
       " 'Photos seem to take only 2 days to review. Videos going on a week without review.',\n",
       " 'I get this error  \\n\"The size of your artwork (not the size of the artboard) must be at least 4 megapixels.\"\\n\\n&#x200B;\\n\\nBut the size of my file is 6mb... so what gives? I did resize the artboard, I don\\'t know how else they expect this file to get bigger. I\\'ve uploaded here like a year ago, not sure why it\\'s not working now.',\n",
       " '',\n",
       " '',\n",
       " '',\n",
       " '',\n",
       " \"So they are still billing me, even though I told them I expressly forbid them from charging me anymore. They don't care. They shut out my access to the Shutterstock account when I cancelled last year, I have to now either cancel the card or go into the bank and go through they fraud processes with printouts of emails and evidence and stuff, just to charge it all back. \\n\\nAdobe's billing is transparent and very professional, I'd never expect something like this from them. There's free services like Pexels, and there's free stock vector sites too. The last thing you should ever do is give Shutterstock your financial details. They spend big on their banner ads, but they operate outside of the laws of your country and charge you a fortune for doing literally nothing.\\n\\nIf you are already a subscriber with Shutterstock, you should be able to cancel by charging back what you've already paid on your credit card, just call your bank and tell them about the unauthorised charges that have come to your attention.\",\n",
       " '',\n",
       " '',\n",
       " '',\n",
       " 'So I closed my Shutterstock account after talking to a customer service agent. The service was not as advertised and I had no use for it, so it was closed and I was charged an exit fee. But I noticed that they have started billing me again, and the customer service agent I\\'m speaking to claims I *must* stay subscribed or pay a $60 exit fee. I\\'m preparing a complaint with the government better business organisation, but just wondering has anyone else had this happened to them? I was fully exited from the service and was receiving \"we miss you, come back and we\\'ll give you 15% off\" emails.\\n\\nI feel like Shutterstock is nowhere near as legit as their advertising material suggests, it\\'s outright fraud. I can\\'t even fucking log in to my Shutterstock because the account is closed and I\\'m being held at random. Shutterstock does not feel like a legit stock image service like Adobe and I regret ever giving Shutterstock any of my details. I feel like I\\'m in store for months of grief to settle this, as well as taking time to register complaint with the government and dealing with tribunals and stuff, it\\'s going to take a bit of time which I had no idea I\\'d need to commit to when I signed up last year.\\n\\nDoes this echo anyone else\\'s experience?',\n",
       " \"If I'm in the wrong place, I apologize.\\n\\nI'm trying to understand if I'm okay in this scenario: We have a standard license for an image. We use the image to create an original design (like a FB advertisement, generic to our industry). We have customers who want to use our original design. Does our standard license allow us to sell or share our original design? I've read the Shutterstock TOS a hundred times and I'm still not fully clear if I'm allowed to create original designs that contain stock images and sell them to other people. \",\n",
       " '',\n",
       " '',\n",
       " '',\n",
       " '',\n",
       " '',\n",
       " '',\n",
       " '',\n",
       " '',\n",
       " '',\n",
       " '',\n",
       " '',\n",
       " '',\n",
       " 'Hello! I just share my Shutterstock portfolio here:\\n\\n[**T R A V E L A R I U M**](https://www.shutterstock.com/g/travelarium?rid=196665972&utm_medium=email&utm_source=ctrbreferral-link)\\n\\nYou can find and buy photos of different subjects: animals, dog sledding, travel, nature, landscapes, macro, some objects, industrial, some isolated photos and much more.\\n\\n\\u200b',\n",
       " 'Here is my Shutterstock Referral page!\\n\\n[https://www.shutterstock.com/g/RyanPaulTroy?rid=192126996&utm\\\\_medium=email&utm\\\\_source=ctrbreferral-link](https://www.shutterstock.com/g/RyanPaulTroy?rid=192126996&utm_medium=email&utm_source=ctrbreferral-link)',\n",
       " 'Had an idea of coordinating with providers to get some slightly more specific stock- or don’t you guys need it?',\n",
       " '',\n",
       " '',\n",
       " '',\n",
       " '',\n",
       " '',\n",
       " 'It would seem taht since Friday 16 Mar 2018 the API is broken. Just curious if anyone else is experiencing any issues with getting access. At first I programmed a brand new custom library for ShutterStock API to grant my coapny access. On friday that code stopped working. I spent the next days trying to figure out what changed.\\n\\nstdClass Object\\n(\\n    [message] => Validation failed\\n    [errors] => Array\\n        (\\n            [0] => stdClass Object\\n                (\\n                    [code] => VALIDATION_OBJECT_REQUIRED\\n                    [message] => Missing required property: client_id\\n                    [path] => $.body.client_id\\n                )\\n\\n        )\\n\\n)\\n\\nThat is the response that I get when requesting a Access Code just to get an Access Token. When I use the online ShutterStock forms at https://developers.shutterstock.com/oauth/apis/get/oauth/authorize I get the exact same response. It is no matter what Client ID I use. I can create a new app and use it and then get the same response. Prior to this, there were no problems but now the API is unusable. Any one else?',\n",
       " '',\n",
       " '',\n",
       " '',\n",
       " '',\n",
       " '',\n",
       " '',\n",
       " '',\n",
       " '',\n",
       " '',\n",
       " '',\n",
       " '',\n",
       " '',\n",
       " '',\n",
       " '',\n",
       " '',\n",
       " '',\n",
       " '',\n",
       " '',\n",
       " '',\n",
       " '',\n",
       " '',\n",
       " \"Hi, I came here to ask if anyone around here happens to use a Shutterstock Account where more than 1 people uses to download images and everyone that uses this account shares the price that you need to pay in order to keep the account living.\\n\\nIf there is, I'd willing to take part of this because I'm currently working as a graphic designer and Shutterstock helps me a lot to save work and time, and because paying an account all by myself is too much, Shutterstock and stock image services are overall too expensive for me to pay alone.\",\n",
       " '',\n",
       " 'This subreddit is dedicated to discussing websites such as shutterstock, iphoto or any other related websites in the stock photo/video domain. ']"
      ]
     },
     "execution_count": 18,
     "metadata": {},
     "output_type": "execute_result"
    }
   ],
   "source": [
    "postToList"
   ]
  },
  {
   "cell_type": "code",
   "execution_count": 15,
   "metadata": {},
   "outputs": [],
   "source": [
    "# joining all webscraped data into one list\n",
    "everything=postToList+a+top_level_comments"
   ]
  },
  {
   "cell_type": "code",
   "execution_count": 28,
   "metadata": {},
   "outputs": [
    {
     "name": "stdout",
     "output_type": "stream",
     "text": [
      "[{'compound': 0.6818,\n",
      "  'headline': \"Let's look back at some memorable moments and interesting insights from last year.\\n\"\n",
      "              '\\n'\n",
      "              '**Your top 10 posts:**\\n'\n",
      "              '\\n'\n",
      "              '* \"[My Best and Worst Selling Photos and Images on '\n",
      "              'Shutterstock](https://www.youtube.com/watch?v=MLThFSU5OQ4)\" by '\n",
      "              '[u/NikoNomad](https://www.reddit.com/user/NikoNomad)\\n'\n",
      "              '* \"[Hmm](https://i.redd.it/1mt7osbefu441.jpg)\" by '\n",
      "              '[u/TheSexyCheeseGrader](https://www.reddit.com/user/TheSexyCheeseGrader)\\n'\n",
      "              '* \"[Watermark on images](/r/shutterstock/comments/dpzd6r/watermark_on_images/)\" by '\n",
      "              '[u/hawk16v](https://www.reddit.com/user/hawk16v)\\n'\n",
      "              '* \"[Hey guys I’m just starting off and would love if you can check my images and '\n",
      "              'maybe I can make a couple of bucks just in time for the holdays, thank you so much '\n",
      "              'if you even just glance I know it’s not a '\n",
      "              'lot.](https://www.shutterstock.com/g/Davis+Olive?rid=250198396&utm_medium=email&utm_source=ctrbreferral-link)\" '\n",
      "              'by [u/Virdian\\\\_](https://www.reddit.com/user/Virdian_)\\n'\n",
      "              '* \"[Shutterstock Is Latest Tech Company to Censor Itself for '\n",
      "              'China](https://theintercept.com/2019/11/06/shutterstock-china-censorship-tech/)\" by '\n",
      "              '[u/koavf](https://www.reddit.com/user/koavf)\\n'\n",
      "              '* \"[Problems with the model '\n",
      "              'release](/r/shutterstock/comments/ecuwka/problems_with_the_model_release/)\" by '\n",
      "              '[u/andybjpg](https://www.reddit.com/user/andybjpg)\\n'\n",
      "              '* \"[illustrations in jpeg and not '\n",
      "              'png?](/r/shutterstock/comments/e9m57j/illustrations_in_jpeg_and_not_png/)\" by '\n",
      "              '[u/johnpardon](https://www.reddit.com/user/johnpardon)\\n'\n",
      "              '* \"[can\\'t upload png illustrations but the site claims they do sell '\n",
      "              'them?](/r/shutterstock/comments/e6zkdi/cant_upload_png_illustrations_but_the_site_claims/)\" '\n",
      "              'by [u/johnpardon](https://www.reddit.com/user/johnpardon)\\n'\n",
      "              '* \"[BORDER DESIGN](http://www.shutterstock.com/en/image/image-1336157342)\" by '\n",
      "              '[u/jdk5051](https://www.reddit.com/user/jdk5051)\\n'\n",
      "              '* \"[Refferal Link](/r/shutterstock/comments/dunryx/refferal_link/)\" by '\n",
      "              '[u/HillarysFloppyChode](https://www.reddit.com/user/HillarysFloppyChode)',\n",
      "  'neg': 0.033,\n",
      "  'neu': 0.886,\n",
      "  'pos': 0.081},\n",
      " {'compound': 0.0, 'headline': '', 'neg': 0.0, 'neu': 0.0, 'pos': 0.0},\n",
      " {'compound': -0.6918,\n",
      "  'headline': \"Hi, I'm new to shutterstock and sotck photography in general. I did some pics of my \"\n",
      "              'hand holding my car keys and I sign the contract as the model and the photographer. '\n",
      "              \"I send the pics but it says the contract is wrong but it doesn't give me an \"\n",
      "              'explanation. So, I want to know if this is because maybe my handwriting was '\n",
      "              \"difficult to read for the AI or what I'm doing wrong.\\n\"\n",
      "              '\\n'\n",
      "              'Thanks.',\n",
      "  'neg': 0.137,\n",
      "  'neu': 0.77,\n",
      "  'pos': 0.093}]\n"
     ]
    }
   ],
   "source": [
    "#sentiment analysis \n",
    "from nltk.sentiment.vader import SentimentIntensityAnalyzer as SIA\n",
    "\n",
    "sia = SIA()\n",
    "results = []\n",
    "\n",
    "for line in everything:\n",
    "    pol_score = sia.polarity_scores(line)\n",
    "    pol_score['headline'] = line\n",
    "    results.append(pol_score)\n",
    "\n",
    "pprint(results[:3], width=100)"
   ]
  },
  {
   "cell_type": "code",
   "execution_count": 29,
   "metadata": {},
   "outputs": [
    {
     "data": {
      "text/html": [
       "<div>\n",
       "<style scoped>\n",
       "    .dataframe tbody tr th:only-of-type {\n",
       "        vertical-align: middle;\n",
       "    }\n",
       "\n",
       "    .dataframe tbody tr th {\n",
       "        vertical-align: top;\n",
       "    }\n",
       "\n",
       "    .dataframe thead th {\n",
       "        text-align: right;\n",
       "    }\n",
       "</style>\n",
       "<table border=\"1\" class=\"dataframe\">\n",
       "  <thead>\n",
       "    <tr style=\"text-align: right;\">\n",
       "      <th></th>\n",
       "      <th>neg</th>\n",
       "      <th>neu</th>\n",
       "      <th>pos</th>\n",
       "      <th>compound</th>\n",
       "      <th>headline</th>\n",
       "    </tr>\n",
       "  </thead>\n",
       "  <tbody>\n",
       "    <tr>\n",
       "      <th>0</th>\n",
       "      <td>0.033</td>\n",
       "      <td>0.886</td>\n",
       "      <td>0.081</td>\n",
       "      <td>0.6818</td>\n",
       "      <td>Let's look back at some memorable moments and ...</td>\n",
       "    </tr>\n",
       "    <tr>\n",
       "      <th>1</th>\n",
       "      <td>0.000</td>\n",
       "      <td>0.000</td>\n",
       "      <td>0.000</td>\n",
       "      <td>0.0000</td>\n",
       "      <td></td>\n",
       "    </tr>\n",
       "    <tr>\n",
       "      <th>2</th>\n",
       "      <td>0.137</td>\n",
       "      <td>0.770</td>\n",
       "      <td>0.093</td>\n",
       "      <td>-0.6918</td>\n",
       "      <td>Hi, I'm new to shutterstock and sotck photogra...</td>\n",
       "    </tr>\n",
       "    <tr>\n",
       "      <th>3</th>\n",
       "      <td>0.000</td>\n",
       "      <td>0.000</td>\n",
       "      <td>0.000</td>\n",
       "      <td>0.0000</td>\n",
       "      <td></td>\n",
       "    </tr>\n",
       "    <tr>\n",
       "      <th>4</th>\n",
       "      <td>0.000</td>\n",
       "      <td>0.889</td>\n",
       "      <td>0.111</td>\n",
       "      <td>0.7278</td>\n",
       "      <td>do people want cutout jpeg stock illustrations...</td>\n",
       "    </tr>\n",
       "  </tbody>\n",
       "</table>\n",
       "</div>"
      ],
      "text/plain": [
       "     neg    neu    pos  compound  \\\n",
       "0  0.033  0.886  0.081    0.6818   \n",
       "1  0.000  0.000  0.000    0.0000   \n",
       "2  0.137  0.770  0.093   -0.6918   \n",
       "3  0.000  0.000  0.000    0.0000   \n",
       "4  0.000  0.889  0.111    0.7278   \n",
       "\n",
       "                                            headline  \n",
       "0  Let's look back at some memorable moments and ...  \n",
       "1                                                     \n",
       "2  Hi, I'm new to shutterstock and sotck photogra...  \n",
       "3                                                     \n",
       "4  do people want cutout jpeg stock illustrations...  "
      ]
     },
     "execution_count": 29,
     "metadata": {},
     "output_type": "execute_result"
    }
   ],
   "source": [
    "#saving result of the sentiment analysis into a dataframe \n",
    "df = pd.DataFrame.from_records(results)\n",
    "df.head()"
   ]
  },
  {
   "cell_type": "code",
   "execution_count": 32,
   "metadata": {},
   "outputs": [],
   "source": [
    "df['headline'].replace('', np.nan, inplace=True)"
   ]
  },
  {
   "cell_type": "code",
   "execution_count": 33,
   "metadata": {},
   "outputs": [],
   "source": [
    "df=df.dropna(subset=['headline'])\n",
    "df.head()"
   ]
  },
  {
   "cell_type": "code",
   "execution_count": 36,
   "metadata": {},
   "outputs": [
    {
     "data": {
      "text/html": [
       "<div>\n",
       "<style scoped>\n",
       "    .dataframe tbody tr th:only-of-type {\n",
       "        vertical-align: middle;\n",
       "    }\n",
       "\n",
       "    .dataframe tbody tr th {\n",
       "        vertical-align: top;\n",
       "    }\n",
       "\n",
       "    .dataframe thead th {\n",
       "        text-align: right;\n",
       "    }\n",
       "</style>\n",
       "<table border=\"1\" class=\"dataframe\">\n",
       "  <thead>\n",
       "    <tr style=\"text-align: right;\">\n",
       "      <th></th>\n",
       "      <th>neg</th>\n",
       "      <th>neu</th>\n",
       "      <th>pos</th>\n",
       "      <th>compound</th>\n",
       "      <th>headline</th>\n",
       "      <th>label</th>\n",
       "    </tr>\n",
       "  </thead>\n",
       "  <tbody>\n",
       "    <tr>\n",
       "      <th>0</th>\n",
       "      <td>0.033</td>\n",
       "      <td>0.886</td>\n",
       "      <td>0.081</td>\n",
       "      <td>0.6818</td>\n",
       "      <td>Let's look back at some memorable moments and ...</td>\n",
       "      <td>1</td>\n",
       "    </tr>\n",
       "    <tr>\n",
       "      <th>2</th>\n",
       "      <td>0.137</td>\n",
       "      <td>0.770</td>\n",
       "      <td>0.093</td>\n",
       "      <td>-0.6918</td>\n",
       "      <td>Hi, I'm new to shutterstock and sotck photogra...</td>\n",
       "      <td>-1</td>\n",
       "    </tr>\n",
       "    <tr>\n",
       "      <th>4</th>\n",
       "      <td>0.000</td>\n",
       "      <td>0.889</td>\n",
       "      <td>0.111</td>\n",
       "      <td>0.7278</td>\n",
       "      <td>do people want cutout jpeg stock illustrations...</td>\n",
       "      <td>1</td>\n",
       "    </tr>\n",
       "    <tr>\n",
       "      <th>5</th>\n",
       "      <td>0.101</td>\n",
       "      <td>0.859</td>\n",
       "      <td>0.040</td>\n",
       "      <td>-0.7149</td>\n",
       "      <td>do they convert vector images to png?\\n\\ni exp...</td>\n",
       "      <td>-1</td>\n",
       "    </tr>\n",
       "    <tr>\n",
       "      <th>8</th>\n",
       "      <td>0.000</td>\n",
       "      <td>1.000</td>\n",
       "      <td>0.000</td>\n",
       "      <td>0.0000</td>\n",
       "      <td>[https://www.shutterstock.com/g/Joseph98?rid=2...</td>\n",
       "      <td>0</td>\n",
       "    </tr>\n",
       "    <tr>\n",
       "      <th>10</th>\n",
       "      <td>0.000</td>\n",
       "      <td>0.844</td>\n",
       "      <td>0.156</td>\n",
       "      <td>0.8426</td>\n",
       "      <td>I recently started contributing in Shutterstoc...</td>\n",
       "      <td>1</td>\n",
       "    </tr>\n",
       "    <tr>\n",
       "      <th>11</th>\n",
       "      <td>0.047</td>\n",
       "      <td>0.953</td>\n",
       "      <td>0.000</td>\n",
       "      <td>-0.2846</td>\n",
       "      <td>every time I have a picture with a brand logo ...</td>\n",
       "      <td>-1</td>\n",
       "    </tr>\n",
       "    <tr>\n",
       "      <th>14</th>\n",
       "      <td>0.000</td>\n",
       "      <td>1.000</td>\n",
       "      <td>0.000</td>\n",
       "      <td>0.0000</td>\n",
       "      <td>[http://www.shutterstock.com/g/ThatGermanGuy?r...</td>\n",
       "      <td>0</td>\n",
       "    </tr>\n",
       "    <tr>\n",
       "      <th>19</th>\n",
       "      <td>0.253</td>\n",
       "      <td>0.648</td>\n",
       "      <td>0.099</td>\n",
       "      <td>-0.5423</td>\n",
       "      <td>I'm either too stupid or too blind. How can I ...</td>\n",
       "      <td>-1</td>\n",
       "    </tr>\n",
       "    <tr>\n",
       "      <th>21</th>\n",
       "      <td>0.040</td>\n",
       "      <td>0.795</td>\n",
       "      <td>0.165</td>\n",
       "      <td>0.9256</td>\n",
       "      <td>I'm not sure if this belongs here, but all tha...</td>\n",
       "      <td>1</td>\n",
       "    </tr>\n",
       "  </tbody>\n",
       "</table>\n",
       "</div>"
      ],
      "text/plain": [
       "      neg    neu    pos  compound  \\\n",
       "0   0.033  0.886  0.081    0.6818   \n",
       "2   0.137  0.770  0.093   -0.6918   \n",
       "4   0.000  0.889  0.111    0.7278   \n",
       "5   0.101  0.859  0.040   -0.7149   \n",
       "8   0.000  1.000  0.000    0.0000   \n",
       "10  0.000  0.844  0.156    0.8426   \n",
       "11  0.047  0.953  0.000   -0.2846   \n",
       "14  0.000  1.000  0.000    0.0000   \n",
       "19  0.253  0.648  0.099   -0.5423   \n",
       "21  0.040  0.795  0.165    0.9256   \n",
       "\n",
       "                                             headline  label  \n",
       "0   Let's look back at some memorable moments and ...      1  \n",
       "2   Hi, I'm new to shutterstock and sotck photogra...     -1  \n",
       "4   do people want cutout jpeg stock illustrations...      1  \n",
       "5   do they convert vector images to png?\\n\\ni exp...     -1  \n",
       "8   [https://www.shutterstock.com/g/Joseph98?rid=2...      0  \n",
       "10  I recently started contributing in Shutterstoc...      1  \n",
       "11  every time I have a picture with a brand logo ...     -1  \n",
       "14  [http://www.shutterstock.com/g/ThatGermanGuy?r...      0  \n",
       "19  I'm either too stupid or too blind. How can I ...     -1  \n",
       "21  I'm not sure if this belongs here, but all tha...      1  "
      ]
     },
     "execution_count": 36,
     "metadata": {},
     "output_type": "execute_result"
    }
   ],
   "source": [
    "# obtaining sentiments for each line of comment on reddit\n",
    "df['label'] = 0\n",
    "df.loc[df['compound'] > 0.2, 'label'] = 1\n",
    "df.loc[df['compound'] < -0.2, 'label'] = -1\n",
    "df.head(10)"
   ]
  },
  {
   "cell_type": "code",
   "execution_count": 39,
   "metadata": {},
   "outputs": [
    {
     "name": "stdout",
     "output_type": "stream",
     "text": [
      "Positive headlines:\n",
      "\n",
      "[\"Let's look back at some memorable moments and interesting insights from last year.\\n\"\n",
      " '\\n'\n",
      " '**Your top 10 posts:**\\n'\n",
      " '\\n'\n",
      " '* \"[My Best and Worst Selling Photos and Images on Shutterstock](https://www.youtube.com/watch?v=MLThFSU5OQ4)\" by [u/NikoNomad](https://www.reddit.com/user/NikoNomad)\\n'\n",
      " '* \"[Hmm](https://i.redd.it/1mt7osbefu441.jpg)\" by [u/TheSexyCheeseGrader](https://www.reddit.com/user/TheSexyCheeseGrader)\\n'\n",
      " '* \"[Watermark on images](/r/shutterstock/comments/dpzd6r/watermark_on_images/)\" by [u/hawk16v](https://www.reddit.com/user/hawk16v)\\n'\n",
      " '* \"[Hey guys I’m just starting off and would love if you can check my images and maybe I can make a couple of bucks just in time for the holdays, thank you so much if you even just glance I know '\n",
      " 'it’s not a lot.](https://www.shutterstock.com/g/Davis+Olive?rid=250198396&utm_medium=email&utm_source=ctrbreferral-link)\" by [u/Virdian\\\\_](https://www.reddit.com/user/Virdian_)\\n'\n",
      " '* \"[Shutterstock Is Latest Tech Company to Censor Itself for China](https://theintercept.com/2019/11/06/shutterstock-china-censorship-tech/)\" by [u/koavf](https://www.reddit.com/user/koavf)\\n'\n",
      " '* \"[Problems with the model release](/r/shutterstock/comments/ecuwka/problems_with_the_model_release/)\" by [u/andybjpg](https://www.reddit.com/user/andybjpg)\\n'\n",
      " '* \"[illustrations in jpeg and not png?](/r/shutterstock/comments/e9m57j/illustrations_in_jpeg_and_not_png/)\" by [u/johnpardon](https://www.reddit.com/user/johnpardon)\\n'\n",
      " '* \"[can\\'t upload png illustrations but the site claims they do sell them?](/r/shutterstock/comments/e6zkdi/cant_upload_png_illustrations_but_the_site_claims/)\" by '\n",
      " '[u/johnpardon](https://www.reddit.com/user/johnpardon)\\n'\n",
      " '* \"[BORDER DESIGN](http://www.shutterstock.com/en/image/image-1336157342)\" by [u/jdk5051](https://www.reddit.com/user/jdk5051)\\n'\n",
      " '* \"[Refferal Link](/r/shutterstock/comments/dunryx/refferal_link/)\" by [u/HillarysFloppyChode](https://www.reddit.com/user/HillarysFloppyChode)',\n",
      " \"do people want cutout jpeg stock illustrations? i mean the background becomes white right if it's in jpeg?\\n\"\n",
      " '\\n'\n",
      " \"it takes some time to transform my illustrations to vector. haven't figured out how to do it yet.\\n\"\n",
      " '\\n'\n",
      " 'but i somehow sold one image already. is it worth it to create jpeg illustrations with white backgrounds? or is there a way to upload png images?',\n",
      " 'I recently started contributing in Shutterstock. Do we need to really add watermark to our photos and upload? Or Shutterstock themselves will take care of the copyrights? Can anyone suggest me a '\n",
      " 'way to proceed with Shutterstock please. What else should I take care when I am a contributor and trying to find a niche out of it.....',\n",
      " \"I'm not sure if this belongs here, but all that google shows me is how to download stock photos for free. \\n\"\n",
      " '\\n'\n",
      " 'I am trying to download thousands of photos from my download history. These are photos I have licensed already. I want to download them (ideally with keywords in the metadata) to keep in a local '\n",
      " 'library of images. \\n'\n",
      " '\\n'\n",
      " 'Is there a service or program that does this? I found \"Shutter Library\" but I\\'m not sure if it\\'s trustworthy (this is a company account and I do not want to compromise the password).\\n'\n",
      " '\\n'\n",
      " 'Thanks!',\n",
      " \"If I'm in the wrong place, I apologize.\\n\"\n",
      " '\\n'\n",
      " \"I'm trying to understand if I'm okay in this scenario: We have a standard license for an image. We use the image to create an original design (like a FB advertisement, generic to our industry). We \"\n",
      " \"have customers who want to use our original design. Does our standard license allow us to sell or share our original design? I've read the Shutterstock TOS a hundred times and I'm still not fully \"\n",
      " \"clear if I'm allowed to create original designs that contain stock images and sell them to other people. \"]\n",
      "\n",
      "Negative headlines:\n",
      "\n",
      "[\"Hi, I'm new to shutterstock and sotck photography in general. I did some pics of my hand holding my car keys and I sign the contract as the model and the photographer. I send the pics but it says \"\n",
      " \"the contract is wrong but it doesn't give me an explanation. So, I want to know if this is because maybe my handwriting was difficult to read for the AI or what I'm doing wrong.\\n\"\n",
      " '\\n'\n",
      " 'Thanks.',\n",
      " 'do they convert vector images to png?\\n'\n",
      " '\\n'\n",
      " \"i export most of my illustrations into png. clip files are useless. can put them in illustrator and convert them to vector but that's too much work imo. \\n\"\n",
      " '\\n'\n",
      " 'the primary reason i wanted to do stock is because the market is filled with cold dead illustrator images. \\n'\n",
      " '\\n'\n",
      " \"i've been uploading to jpeg but i am not familiar with the format but it seems like you can't upload transparent backgrounds?\",\n",
      " 'every time I have a picture with a brand logo or name I get the image rejected because of it but when I search the thing in my picture on Shutterstock the logo and brand name are right in the '\n",
      " 'picture, why can some people post such pictures but I cant?',\n",
      " \"I'm either too stupid or too blind. How can I change the prices of my uploaded footage at Shutterstock Contributor?\\n\\n&#x200B;\\n\\nThanks and sorry.\",\n",
      " 'I get this error  \\n'\n",
      " '\"The size of your artwork (not the size of the artboard) must be at least 4 megapixels.\"\\n'\n",
      " '\\n'\n",
      " '&#x200B;\\n'\n",
      " '\\n'\n",
      " \"But the size of my file is 6mb... so what gives? I did resize the artboard, I don't know how else they expect this file to get bigger. I've uploaded here like a year ago, not sure why it's not \"\n",
      " 'working now.']\n"
     ]
    }
   ],
   "source": [
    "print(\"Positive headlines:\\n\")\n",
    "pprint(list(df[df['label'] == 1].headline)[:5], width=200)\n",
    "\n",
    "print(\"\\nNegative headlines:\\n\")\n",
    "pprint(list(df[df['label'] == -1].headline)[:5], width=200)"
   ]
  },
  {
   "cell_type": "code",
   "execution_count": null,
   "metadata": {},
   "outputs": [],
   "source": [
    "#stopwords and tokenizer for the word count\n",
    "stop_words = stopwords.words('english')\n",
    "tokenizer = RegexpTokenizer(r'\\w+')"
   ]
  },
  {
   "cell_type": "code",
   "execution_count": 41,
   "metadata": {},
   "outputs": [],
   "source": [
    "#function to tokenize and convert the words to lower character\n",
    "def process_text(headlines):\n",
    "    tokens = []\n",
    "    for line in headlines:\n",
    "        toks = tokenizer.tokenize(line)\n",
    "        toks = [t.lower() for t in toks if t.lower() not in stop_words]\n",
    "        tokens.extend(toks)\n",
    "    \n",
    "    return tokens"
   ]
  },
  {
   "cell_type": "code",
   "execution_count": 46,
   "metadata": {},
   "outputs": [
    {
     "data": {
      "text/plain": [
       "[('shutterstock', 25),\n",
       " ('com', 21),\n",
       " ('www', 15),\n",
       " ('https', 14),\n",
       " ('images', 12),\n",
       " ('u', 11),\n",
       " ('use', 11),\n",
       " ('reddit', 10),\n",
       " ('user', 10),\n",
       " ('photos', 9),\n",
       " ('stock', 8),\n",
       " ('image', 7),\n",
       " ('want', 6),\n",
       " ('download', 6),\n",
       " ('free', 6),\n",
       " ('month', 6),\n",
       " ('r', 5),\n",
       " ('comments', 5),\n",
       " ('time', 5),\n",
       " ('illustrations', 5)]"
      ]
     },
     "execution_count": 46,
     "metadata": {},
     "output_type": "execute_result"
    }
   ],
   "source": [
    "#printing out the most frequent words from the positive sentiments\n",
    "pos_lines = list(df[df.label == 1].headline)\n",
    "\n",
    "pos_tokens = process_text(pos_lines)\n",
    "pos_freq = nltk.FreqDist(pos_tokens)\n",
    "\n",
    "pos_freq.most_common(20)"
   ]
  },
  {
   "cell_type": "code",
   "execution_count": 47,
   "metadata": {},
   "outputs": [
    {
     "data": {
      "text/plain": [
       "[('shutterstock', 16),\n",
       " ('like', 8),\n",
       " ('get', 8),\n",
       " ('else', 5),\n",
       " ('access', 5),\n",
       " ('service', 5),\n",
       " ('use', 4),\n",
       " ('new', 3),\n",
       " ('give', 3),\n",
       " ('vector', 3),\n",
       " ('stock', 3),\n",
       " ('time', 3),\n",
       " ('picture', 3),\n",
       " ('brand', 3),\n",
       " ('size', 3),\n",
       " ('year', 3),\n",
       " ('billing', 3),\n",
       " ('account', 3),\n",
       " ('last', 3),\n",
       " ('back', 3)]"
      ]
     },
     "execution_count": 47,
     "metadata": {},
     "output_type": "execute_result"
    }
   ],
   "source": [
    "#printing out the most frequent words from the negative sentiments\n",
    "neg_lines = list(df[df.label == -1].headline)\n",
    "\n",
    "neg_tokens = process_text(neg_lines)\n",
    "neg_freq = nltk.FreqDist(neg_tokens)\n",
    "\n",
    "neg_freq.most_common(20)"
   ]
  },
  {
   "cell_type": "markdown",
   "metadata": {},
   "source": [
    "#### word count plot for positive words"
   ]
  },
  {
   "cell_type": "code",
   "execution_count": 65,
   "metadata": {},
   "outputs": [],
   "source": [
    "frequency_dist = nltk.FreqDist(pos_tokens)"
   ]
  },
  {
   "cell_type": "code",
   "execution_count": 66,
   "metadata": {},
   "outputs": [
    {
     "data": {
      "image/png": "[encoded data removed]",
      "text/plain": [
       "<Figure size 432x288 with 1 Axes>"
      ]
     },
     "metadata": {
      "needs_background": "light"
     },
     "output_type": "display_data"
    }
   ],
   "source": [
    "from wordcloud import WordCloud\n",
    "wordcloud = WordCloud(background_color=\"white\", contour_width=3, contour_color='steelblue').generate_from_frequencies(frequency_dist)\n",
    "plt.imshow(wordcloud)\n",
    "plt.axis(\"off\")\n",
    "plt.show()"
   ]
  },
  {
   "cell_type": "markdown",
   "metadata": {},
   "source": [
    "### tokenizing the data and using random forest classifier"
   ]
  },
  {
   "cell_type": "code",
   "execution_count": null,
   "metadata": {},
   "outputs": [],
   "source": [
    "df2 = df[['headline', 'label']]"
   ]
  },
  {
   "cell_type": "code",
   "execution_count": 217,
   "metadata": {},
   "outputs": [],
   "source": [
    "# store simplified data in X and y\n",
    "X = df2['headline']\n",
    "y = df2['label']"
   ]
  },
  {
   "cell_type": "code",
   "execution_count": 218,
   "metadata": {},
   "outputs": [],
   "source": [
    "from sklearn.model_selection import train_test_split\n",
    "from sklearn.ensemble import RandomForestClassifier\n",
    "\n",
    "X_train, X_test, y_train, y_test = train_test_split(X, y, test_size=0.33, random_state=42)"
   ]
  },
  {
   "cell_type": "code",
   "execution_count": 219,
   "metadata": {},
   "outputs": [],
   "source": [
    "from sklearn.feature_extraction.text import TfidfVectorizer\n",
    "from sklearn.datasets import load_files"
   ]
  },
  {
   "cell_type": "code",
   "execution_count": 136,
   "metadata": {},
   "outputs": [],
   "source": [
    "tvec = TfidfVectorizer(stop_words='english', max_features=1000, ngram_range=[1,2])\n",
    "X_train_tvec = tvec.fit_transform(X_train)\n",
    "X_test_tvec = tvec.transform(X_test)"
   ]
  },
  {
   "cell_type": "code",
   "execution_count": 137,
   "metadata": {},
   "outputs": [
    {
     "name": "stdout",
     "output_type": "stream",
     "text": [
      "['shutterstock', 'com', 'stock', 'use', 'shutterstock com', 'photos', 'www', 'don', 'https', 'image', 'good', 'just', 'stocksy', 'need', 'time']\n"
     ]
    }
   ],
   "source": [
    "indices = np.argsort(tvec.idf_)[::]\n",
    "features = tvec.get_feature_names()\n",
    "top_n = 15\n",
    "top_features = [features[i] for i in indices[:top_n]]\n",
    "print(top_features)"
   ]
  },
  {
   "cell_type": "markdown",
   "metadata": {},
   "source": [
    "#### utilizing random forest classification"
   ]
  },
  {
   "cell_type": "code",
   "execution_count": 141,
   "metadata": {},
   "outputs": [
    {
     "name": "stderr",
     "output_type": "stream",
     "text": [
      "/home/jupyterlab/conda/envs/python/lib/python3.6/site-packages/sklearn/ensemble/forest.py:246: FutureWarning: The default value of n_estimators will change from 10 in version 0.20 to 100 in 0.22.\n",
      "  \"10 in version 0.20 to 100 in 0.22.\", FutureWarning)\n"
     ]
    },
    {
     "data": {
      "text/plain": [
       "RandomForestClassifier(bootstrap=True, class_weight=None, criterion='gini',\n",
       "            max_depth=None, max_features='auto', max_leaf_nodes=None,\n",
       "            min_impurity_decrease=0.0, min_impurity_split=None,\n",
       "            min_samples_leaf=1, min_samples_split=2,\n",
       "            min_weight_fraction_leaf=0.0, n_estimators=10, n_jobs=None,\n",
       "            oob_score=False, random_state=None, verbose=0,\n",
       "            warm_start=False)"
      ]
     },
     "execution_count": 141,
     "metadata": {},
     "output_type": "execute_result"
    }
   ],
   "source": [
    "rf = RandomForestClassifier()\n",
    "rf.fit(X_train_tvec,y_train)"
   ]
  },
  {
   "cell_type": "code",
   "execution_count": 142,
   "metadata": {},
   "outputs": [
    {
     "data": {
      "text/plain": [
       "0.6904761904761905"
      ]
     },
     "execution_count": 142,
     "metadata": {},
     "output_type": "execute_result"
    }
   ],
   "source": [
    "rf.score(X_test_tvec, y_test)"
   ]
  }
 ],
 "metadata": {
  "kernelspec": {
   "display_name": "Python",
   "language": "python",
   "name": "conda-env-python-py"
  },
  "language_info": {
   "codemirror_mode": {
    "name": "ipython",
    "version": 3
   },
   "file_extension": ".py",
   "mimetype": "text/x-python",
   "name": "python",
   "nbconvert_exporter": "python",
   "pygments_lexer": "ipython3",
   "version": "3.6.12"
  }
 },
 "nbformat": 4,
 "nbformat_minor": 4
}
